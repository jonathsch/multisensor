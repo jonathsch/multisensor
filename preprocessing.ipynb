{
 "cells": [
  {
   "cell_type": "markdown",
   "metadata": {},
   "source": [
    "# Dataset Preprocessing\n",
    "\n",
    "This notebook exemplifies the generation of pseudo LiDAR training data for one CARLA town.\n",
    "\n",
    "## Setup"
   ]
  },
  {
   "cell_type": "code",
   "execution_count": null,
   "metadata": {},
   "outputs": [],
   "source": [
    "import os\n",
    "from pathlib import Path\n",
    "import json\n",
    "\n",
    "import numpy as np\n",
    "from tqdm import tqdm\n",
    "\n",
    "from pseudolidar.lidar_generator import PseudoLidarGenerator\n",
    "from pseudolidar.pcl_generator import PointCloudGenerator"
   ]
  },
  {
   "cell_type": "code",
   "execution_count": null,
   "metadata": {},
   "outputs": [],
   "source": [
    "DATASET_ROOT = Path('./data/')\n",
    "TOWN = '05'\n",
    "EXTRINSICS_PATH = Path('pseudolidar/extrinsics.json')\n",
    "FOV = 100\n",
    "IMAGE_DIM = (300, 400)\n",
    "\n",
    "NUM_LIDAR_MEASUREMENTS = 250\n",
    "MAX_DEPTH_FRONT = 0.05\n",
    "MAX_DEPTH_SIDE = 0.03"
   ]
  },
  {
   "cell_type": "code",
   "execution_count": null,
   "metadata": {},
   "outputs": [],
   "source": [
    "# Helper function to read camera extrinsics\n",
    "\n",
    "def read_poses(path: os.PathLike):\n",
    "    with open(path, mode='r') as f:\n",
    "        poses = json.load(f)\n",
    "    \n",
    "    front = PseudoLidarGenerator.load_pose(poses['cam_front'])\n",
    "    left = PseudoLidarGenerator.load_pose(poses['cam_left'])\n",
    "    right = PseudoLidarGenerator.load_pose(poses['cam_right'])\n",
    "\n",
    "    return [front, left, right]"
   ]
  },
  {
   "cell_type": "code",
   "execution_count": null,
   "metadata": {},
   "outputs": [],
   "source": [
    "# Pseudo-LiDAR setup\n",
    "\n",
    "poses = read_poses(EXTRINSICS_PATH)\n",
    "pc_generator = PointCloudGenerator(FOV, IMAGE_DIM)\n",
    "lidar_generator = PseudoLidarGenerator(poses)"
   ]
  },
  {
   "cell_type": "markdown",
   "metadata": {},
   "source": [
    "## Pseudo-LiDAR generation\n",
    "\n",
    "The following block generates the pseudo-LiDAR data for the selected town. Note that this takes about 1 hour per town."
   ]
  },
  {
   "cell_type": "code",
   "execution_count": null,
   "metadata": {},
   "outputs": [],
   "source": [
    "town_path = DATASET_ROOT / f'Town{TOWN}_short'\n",
    "routes = [p for p in town_path.iterdir() if p.is_dir() and p.name.startswith('routes_')]\n",
    "for route in tqdm(routes):\n",
    "    fronts = sorted([p for p in route.joinpath('depth_front').iterdir() if p.is_file() and p.suffix == '.png'])\n",
    "    lefts = sorted([p for p in route.joinpath('depth_left').iterdir() if p.is_file() and p.suffix == '.png'])\n",
    "    rights = sorted([p for p in route.joinpath('depth_right').iterdir() if p.is_file() and p.suffix == '.png'])\n",
    "    \n",
    "    out_dir = route / 'pseudolidar'\n",
    "    out_dir.mkdir(exist_ok=True)\n",
    "\n",
    "    for front, left, right in zip(fronts, lefts, rights):\n",
    "        pcs = [pc_generator.generate(front, max_depth=MAX_DEPTH_FRONT),\n",
    "                pc_generator.generate(left, max_depth=MAX_DEPTH_SIDE),\n",
    "                pc_generator.generate(right, max_depth=MAX_DEPTH_SIDE)\n",
    "        ]\n",
    "\n",
    "        pc = lidar_generator.generate(pcs)\n",
    "        mesh = PseudoLidarGenerator.reconstruct_mesh(pc)\n",
    "        points = PseudoLidarGenerator.raycast_mesh(mesh, n_measurements=NUM_LIDAR_MEASUREMENTS)\n",
    "        \n",
    "        np.save(out_dir / f'{front.stem}.npy', points)"
   ]
  }
 ],
 "metadata": {
  "interpreter": {
   "hash": "8d6e29759a9fe0405f3be47008d2246459fd59239306d661a62ff02b9fe82cbc"
  },
  "kernelspec": {
   "display_name": "Python 3.9.7 ('pseudolidar')",
   "language": "python",
   "name": "python3"
  },
  "language_info": {
   "codemirror_mode": {
    "name": "ipython",
    "version": 3
   },
   "file_extension": ".py",
   "mimetype": "text/x-python",
   "name": "python",
   "nbconvert_exporter": "python",
   "pygments_lexer": "ipython3",
   "version": "3.7.11"
  },
  "orig_nbformat": 4
 },
 "nbformat": 4,
 "nbformat_minor": 2
}
