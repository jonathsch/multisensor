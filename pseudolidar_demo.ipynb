{
 "cells": [
  {
   "cell_type": "markdown",
   "id": "bc901c95",
   "metadata": {},
   "source": [
    "# Pseudo-LiDAR Demo"
   ]
  },
  {
   "cell_type": "markdown",
   "id": "2fd1e835",
   "metadata": {},
   "source": [
    "## Setup"
   ]
  },
  {
   "cell_type": "code",
   "execution_count": null,
   "id": "96282431",
   "metadata": {},
   "outputs": [],
   "source": [
    "import os\n",
    "\n",
    "import numpy as np\n",
    "import matplotlib.pyplot as plt\n",
    "\n",
    "from pseudolidar.pcl_generator import PointCloudGenerator\n",
    "from pseudolidar.lidar_generator import PseudoLidarGenerator"
   ]
  },
  {
   "cell_type": "code",
   "execution_count": null,
   "id": "2693b244",
   "metadata": {},
   "outputs": [],
   "source": [
    "IMG_DIMS = (300, 400)\n",
    "FOV = 100\n",
    "\n",
    "camera_poses = {\n",
    "    \"cam_front\": {\n",
    "        \"x\": 1.3,\n",
    "        \"y\": 0.0,\n",
    "        \"z\": 2.3,\n",
    "        \"roll\": 0.0,\n",
    "        \"pitch\": 0.0,\n",
    "        \"yaw\": 0.0\n",
    "    },\n",
    "    \"cam_rear\": {\n",
    "        \"x\": -1.3,\n",
    "        \"y\": 0.0,\n",
    "        \"z\": 2.3,\n",
    "        \"roll\": 0.0,\n",
    "        \"pitch\": 0.0,\n",
    "        \"yaw\": 180.0\n",
    "    },\n",
    "    \"cam_left\": {\n",
    "        \"x\": 1.3,\n",
    "        \"y\": 0.0,\n",
    "        \"z\": 2.3,\n",
    "        \"roll\": 0.0,\n",
    "        \"pitch\": 0.0,\n",
    "        \"yaw\": -60.0\n",
    "    },\n",
    "    \"cam_right\": {\n",
    "        \"x\": 1.3,\n",
    "        \"y\": 0.0,\n",
    "        \"z\": 2.3,\n",
    "        \"roll\": 0.0,\n",
    "        \"pitch\": 0.0,\n",
    "        \"yaw\": 60.0\n",
    "    }\n",
    "}"
   ]
  },
  {
   "cell_type": "code",
   "execution_count": null,
   "id": "ccb9bd44",
   "metadata": {},
   "outputs": [],
   "source": [
    "def load_pose(extrinsics):\n",
    "    sinval = np.sin(extrinsics['yaw'] * np.pi / 180.)\n",
    "    cosval = np.cos(extrinsics['yaw'] * np.pi / 180.)\n",
    "    Rz = np.array([[cosval, -sinval, 0],\n",
    "                   [sinval, cosval, 0],\n",
    "                   [0, 0, 1]])\n",
    "    t = np.array([extrinsics['x'], extrinsics['y'], extrinsics['z']])\n",
    "    \n",
    "    T = np.eye(4)\n",
    "    T[:3, :3] = Rz\n",
    "    T[:3, 3] = Rz @ t\n",
    "    return T"
   ]
  },
  {
   "cell_type": "code",
   "execution_count": null,
   "id": "a48cefe9",
   "metadata": {},
   "outputs": [],
   "source": [
    "# Load camera intrinsics\n",
    "front_pose = load_pose(camera_poses['cam_front'])\n",
    "left_pose = load_pose(camera_poses['cam_left'])\n",
    "right_pose = load_pose(camera_poses['cam_right'])"
   ]
  },
  {
   "cell_type": "code",
   "execution_count": null,
   "id": "d20251c3",
   "metadata": {},
   "outputs": [],
   "source": [
    "# Set up pseudo-LiDAR generator\n",
    "lidar_generator = PseudoLidarGenerator([front_pose, left_pose, right_pose])\n",
    "pcl_generator = PointCloudGenerator(fov=FOV, image_dims=IMG_DIMS)"
   ]
  },
  {
   "cell_type": "markdown",
   "id": "d103528d",
   "metadata": {},
   "source": [
    "## Simple Pseudo-Lidar\n",
    "\n",
    "The following cells create and depict pseudo-LiDAR as proposed by Wang et al."
   ]
  },
  {
   "cell_type": "code",
   "execution_count": null,
   "id": "a803f4b5",
   "metadata": {},
   "outputs": [],
   "source": [
    "# Create point clouds from the depth maps and fuse them in the vehicle's coordinate frame\n",
    "pcls = []\n",
    "pcls.append(pcl_generator.generate(os.path.join('demo_assets', 'depth_front.png'), max_depth=0.05, sparsity=3))\n",
    "pcls.append(pcl_generator.generate(os.path.join('demo_assets', 'depth_left.png'), max_depth=0.03, sparsity=3))\n",
    "pcls.append(pcl_generator.generate(os.path.join('demo_assets', 'depth_right.png'), max_depth=0.03, sparsity=3))\n",
    "pcl = lidar_generator.generate(pcls)"
   ]
  },
  {
   "cell_type": "code",
   "execution_count": null,
   "id": "439f956f",
   "metadata": {},
   "outputs": [],
   "source": [
    "# Project into bird-eye-view and visualize\n",
    "bev = PseudoLidarGenerator.post_process(pcl)\n",
    "viz = PseudoLidarGenerator.to_grayscale_image(bev)\n",
    "\n",
    "plt.imshow(viz, cmap='gray')"
   ]
  },
  {
   "cell_type": "markdown",
   "id": "bbd7270c",
   "metadata": {},
   "source": [
    "## Raycasting-based Pseudo-LiDAR\n",
    "\n",
    "The following blocks generate and visualize our improved pseudo-LiDAR, which reconstructs a triangle mesh from the back-projected point clouds and raycasts it to simulate a LiDAR sensor."
   ]
  },
  {
   "cell_type": "code",
   "execution_count": null,
   "id": "cab5d927",
   "metadata": {},
   "outputs": [],
   "source": [
    "# Create point clouds from the depth maps and fuse them in the vehicle's coordinate frame\n",
    "pcls = []\n",
    "pcls.append(pcl_generator.generate(os.path.join('demo_assets', 'depth_front.png'), max_depth=0.05))\n",
    "pcls.append(pcl_generator.generate(os.path.join('demo_assets', 'depth_left.png'), max_depth=0.03))\n",
    "pcls.append(pcl_generator.generate(os.path.join('demo_assets', 'depth_right.png'), max_depth=0.03))\n",
    "pcl = lidar_generator.generate(pcls)"
   ]
  },
  {
   "cell_type": "code",
   "execution_count": null,
   "id": "d1fe094a",
   "metadata": {},
   "outputs": [],
   "source": [
    "DOWNSAMPLE_VOXEL_SIZE = 0.5\n",
    "NUM_LIDAR_CHANNELS = 32\n",
    "NUM_MEASUREMENTS_PER_ROTATION = 250\n",
    "\n",
    "# Reconstruct a triangle mesh and raycast it\n",
    "mesh = PseudoLidarGenerator.reconstruct_mesh(pcl, voxel_size=DOWNSAMPLE_VOXEL_SIZE)\n",
    "points = PseudoLidarGenerator.raycast_mesh(mesh, channels=NUM_LIDAR_CHANNELS, n_measurements=NUM_MEASUREMENTS_PER_ROTATION)"
   ]
  },
  {
   "cell_type": "code",
   "execution_count": null,
   "id": "48b20aa0",
   "metadata": {},
   "outputs": [],
   "source": [
    "# Project into bird-eye-view and visualize\n",
    "bev = PseudoLidarGenerator.post_process(points)\n",
    "viz = PseudoLidarGenerator.to_grayscale_image(bev)\n",
    "\n",
    "plt.imshow(viz, cmap='gray')"
   ]
  },
  {
   "cell_type": "markdown",
   "id": "81962ecd",
   "metadata": {},
   "source": [
    "## LiDAR Reference\n",
    "\n",
    "The following visualizes the same scene captured by a CARLA LiDAR sensor"
   ]
  },
  {
   "cell_type": "code",
   "execution_count": null,
   "id": "6df34395",
   "metadata": {},
   "outputs": [],
   "source": [
    "# LiDAR visualization\n",
    "lidar = np.load('demo_assets/lidar.npy')\n",
    "lidar = lidar[:, [1, 0, 2]]\n",
    "lidar_bev = PseudoLidarGenerator.post_process(lidar)\n",
    "lidar_viz = PseudoLidarGenerator.to_grayscale_image(lidar_bev)\n",
    "\n",
    "plt.imshow(lidar_viz, cmap='gray')\n"
   ]
  }
 ],
 "metadata": {
  "kernelspec": {
   "display_name": "Python 3 (ipykernel)",
   "language": "python",
   "name": "python3"
  },
  "language_info": {
   "codemirror_mode": {
    "name": "ipython",
    "version": 3
   },
   "file_extension": ".py",
   "mimetype": "text/x-python",
   "name": "python",
   "nbconvert_exporter": "python",
   "pygments_lexer": "ipython3",
   "version": "3.9.7"
  }
 },
 "nbformat": 4,
 "nbformat_minor": 5
}
