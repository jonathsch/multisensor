{
 "cells": [
  {
   "cell_type": "markdown",
   "metadata": {},
   "source": [
    "# Offline Evaluation\n",
    "\n",
    "This notebook guides through an offline evaluation of a trained transfuser model using either LiDAR or pseudo-LiDAR as input. If you want to conduct an online evaluation, please refer to the README for instructions."
   ]
  },
  {
   "cell_type": "code",
   "execution_count": null,
   "metadata": {},
   "outputs": [],
   "source": [
    "from transfuser.data import CARLA_Data\n",
    "from transfuser.model import TransFuser\n",
    "from transfuser.config import GlobalConfig\n",
    "from tqdm import tqdm\n",
    "from pathlib import Path\n",
    "\n",
    "import torch\n",
    "from torch.utils.data import DataLoader\n",
    "import torch.nn.functional as F\n",
    "torch.backends.cudnn.benchmark = True\n",
    "\n",
    "torch.cuda.empty_cache()"
   ]
  },
  {
   "cell_type": "code",
   "execution_count": null,
   "metadata": {},
   "outputs": [],
   "source": [
    "# Settings\n",
    "weight_path = Path('/storage/remote/atcremers57/w0014/transfuser/model_ckpt/best_model.pth')\n",
    "device = 'cuda'\n",
    "batch_size = 32\n",
    "use_pseudolidar = False\n",
    "model_has_classification_branch = False"
   ]
  },
  {
   "cell_type": "code",
   "execution_count": null,
   "metadata": {},
   "outputs": [],
   "source": [
    "# Config\n",
    "config = GlobalConfig()\n",
    "if use_pseudolidar:\n",
    "    config.use_pseudolidar = True\n",
    "else:\n",
    "    config.use_pseudolidar = False\n",
    "\n",
    "# Data\n",
    "val_set = CARLA_Data(root=config.val_data, config=config)\n",
    "dataloader_val = DataLoader(val_set, batch_size=batch_size, shuffle=False, num_workers=4, pin_memory=True)\n",
    "\n",
    "# Model\n",
    "model = TransFuser(config, device, use_classification_branch=model_has_classification_branch)\n",
    "model.load_state_dict(torch.load(weight_path))"
   ]
  },
  {
   "cell_type": "code",
   "execution_count": null,
   "metadata": {},
   "outputs": [],
   "source": [
    "class Engine(object):\n",
    "    \"\"\"Engine that runs training and inference.\"\"\"\n",
    "\n",
    "    def __init__(self):\n",
    "        self.val_loss = []\n",
    "\n",
    "    def validate(self):\n",
    "        model.eval()\n",
    "\n",
    "        with torch.no_grad():\n",
    "            num_batches = 0\n",
    "            wp_epoch = 0.\n",
    "\n",
    "            # Validation loop\n",
    "            for batch_num, data in enumerate(tqdm(dataloader_val), 0):\n",
    "\n",
    "                # create batch and move to GPU\n",
    "                fronts_in = data['fronts']\n",
    "                lefts_in = data['lefts']\n",
    "                rights_in = data['rights']\n",
    "                rears_in = data['rears']\n",
    "                lidars_in = data['lidars']\n",
    "                fronts = []\n",
    "                lefts = []\n",
    "                rights = []\n",
    "                rears = []\n",
    "                lidars = []\n",
    "                for i in range(config.seq_len):\n",
    "                    fronts.append(fronts_in[i].to(device, dtype=torch.float32))\n",
    "                    if not config.ignore_sides:\n",
    "                        lefts.append(lefts_in[i].to(device, dtype=torch.float32))\n",
    "                        rights.append(rights_in[i].to(device, dtype=torch.float32))\n",
    "                    if not config.ignore_rear:\n",
    "                        rears.append(rears_in[i].to(device, dtype=torch.float32))\n",
    "                    lidars.append(lidars_in[i].to(device, dtype=torch.float32))\n",
    "\n",
    "                # driving labels\n",
    "                command = data['command'].to(device)\n",
    "                gt_velocity = data['velocity'].to(device, dtype=torch.float32)\n",
    "                gt_steer = data['steer'].to(device, dtype=torch.float32)\n",
    "                gt_throttle = data['throttle'].to(device, dtype=torch.float32)\n",
    "                gt_brake = data['brake'].to(device, dtype=torch.float32)\n",
    "\n",
    "                # target point\n",
    "                target_point = torch.stack(data['target_point'], dim=1).to(device, dtype=torch.float32)\n",
    "\n",
    "                pred_wp = model(fronts+lefts+rights+rears, lidars, target_point, gt_velocity)\n",
    "\n",
    "                gt_waypoints = [torch.stack(data['waypoints'][i], dim=1).to(device, dtype=torch.float32)\n",
    "                                for i in range(config.seq_len, len(data['waypoints']))]\n",
    "                gt_waypoints = torch.stack(gt_waypoints, dim=1).to(device, dtype=torch.float32)\n",
    "                wp_epoch += float(F.l1_loss(pred_wp, gt_waypoints, reduction='none').mean())\n",
    "\n",
    "                num_batches += 1\n",
    "\n",
    "            wp_loss = wp_epoch / float(num_batches)\n",
    "            tqdm.write(f' Wp loss: {wp_loss:3.3f}')"
   ]
  },
  {
   "cell_type": "code",
   "execution_count": null,
   "metadata": {},
   "outputs": [],
   "source": [
    "trainer = Engine()\n",
    "trainer.validate()"
   ]
  }
 ],
 "metadata": {
  "interpreter": {
   "hash": "8d6e29759a9fe0405f3be47008d2246459fd59239306d661a62ff02b9fe82cbc"
  },
  "kernelspec": {
   "display_name": "Python 3.9.7 ('pseudolidar')",
   "language": "python",
   "name": "python3"
  },
  "language_info": {
   "codemirror_mode": {
    "name": "ipython",
    "version": 3
   },
   "file_extension": ".py",
   "mimetype": "text/x-python",
   "name": "python",
   "nbconvert_exporter": "python",
   "pygments_lexer": "ipython3",
   "version": "3.9.7"
  },
  "orig_nbformat": 4
 },
 "nbformat": 4,
 "nbformat_minor": 2
}
